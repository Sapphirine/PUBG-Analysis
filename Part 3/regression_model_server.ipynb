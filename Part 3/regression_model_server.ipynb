{
 "cells": [
  {
   "cell_type": "code",
   "execution_count": 8,
   "metadata": {},
   "outputs": [],
   "source": [
    "import pyspark.ml.regression as regression\n",
    "from os import *\n",
    "from pyspark import SparkConf, SparkContext\n",
    "from pyspark.sql import SQLContext\n",
    "sc= SparkContext()\n",
    "sqlContext = SQLContext(sc)"
   ]
  },
  {
   "cell_type": "code",
   "execution_count": 10,
   "metadata": {},
   "outputs": [],
   "source": [
    "lr_model = regression.LinearRegressionModel.load('model/linearRegressionModel')"
   ]
  },
  {
   "cell_type": "code",
   "execution_count": 11,
   "metadata": {},
   "outputs": [],
   "source": [
    "dt_model = regression.DecisionTreeRegressionModel.load('model/decisionTreeModel')"
   ]
  },
  {
   "cell_type": "code",
   "execution_count": 12,
   "metadata": {},
   "outputs": [],
   "source": [
    "gbt_model = regression.GBTRegressionModel.load('model/gradientBoostedTree')"
   ]
  },
  {
   "cell_type": "code",
   "execution_count": 13,
   "metadata": {},
   "outputs": [],
   "source": [
    "from pyspark.sql import Row\n",
    "import matplotlib.pyplot as plt\n",
    "import numpy as np\n",
    "from pyspark.ml.feature import VectorAssembler\n",
    "vectorAssembler = VectorAssembler(inputCols = ['assists', 'boosts', 'damageDealt', 'DBNOs', 'headshotKills', 'heals', 'killPlace',  'kills', 'killStreaks', 'longestKill', 'revives','rideDistance','walkDistance','weaponsAcquired'], outputCol = 'features')\n",
    "def func_predict(assists, boosts, damageDealt, DBNOs, headshotKills, heals, killPlace, \\\n",
    "                  kills, killStreaks, longestKill,revives, rideDistance, walkDistance, weaponsAcquired):\n",
    "    input_row = Row(assists = assists,boosts = boosts,damageDealt = damageDealt,DBNOs = DBNOs,headshotKills = headshotKills,\\\n",
    "                    heals = heals,killPlace = killPlace,kills = kills,killStreaks = killStreaks,longestKill = longestKill,\\\n",
    "                    revives = revives,rideDistance = rideDistance,walkDistance = walkDistance,weaponsAcquired = weaponsAcquired)\n",
    "    df_input = sc.parallelize([input_row]).toDF()\n",
    "    #df_input.show(False)\n",
    "    feature_vector = vectorAssembler.transform(df_input)\n",
    "    feature_vector = feature_vector.select(['features'])\n",
    "    gbt_p = gbt_model.transform(feature_vector)\n",
    "    dt_p = dt_model.transform(feature_vector)\n",
    "    lr_p = lr_model.transform(feature_vector)\n",
    "    #gbt_p.show(False)\n",
    "    prediction_gbt = gbt_p.first().prediction\n",
    "    prediction_dt = dt_p.first().prediction\n",
    "    prediction_lr = lr_p.first().prediction\n",
    "    return str(prediction_lr) + \",\" + str(prediction_dt) + \",\" + str(prediction_gbt)"
   ]
  },
  {
   "cell_type": "code",
   "execution_count": 15,
   "metadata": {},
   "outputs": [
    {
     "name": "stdout",
     "output_type": "stream",
     "text": [
      "0.47740103911528575,0.5709795994253364,0.7680636942105921\n"
     ]
    }
   ],
   "source": [
    "msg = func_predict(0,0,0,0,0,0,0,0,0,0,0,0,0,0)\n",
    "print(msg)"
   ]
  },
  {
   "cell_type": "code",
   "execution_count": null,
   "metadata": {},
   "outputs": [
    {
     "name": "stdout",
     "output_type": "stream",
     "text": [
      "starting server...\n",
      "running server...\n"
     ]
    },
    {
     "name": "stderr",
     "output_type": "stream",
     "text": [
      "160.39.164.174 - - [13/Dec/2018 19:12:47] \"POST / HTTP/1.1\" 200 -\n"
     ]
    },
    {
     "name": "stdout",
     "output_type": "stream",
     "text": [
      "1,0,0,0,0,0,0,0,0,0,0,0,0,0\n"
     ]
    },
    {
     "name": "stderr",
     "output_type": "stream",
     "text": [
      "160.39.164.174 - - [13/Dec/2018 19:13:34] \"POST / HTTP/1.1\" 200 -\n"
     ]
    },
    {
     "name": "stdout",
     "output_type": "stream",
     "text": [
      "1,1,0,0,0,0,0,0,0,0,0,0,0,0\n"
     ]
    },
    {
     "name": "stderr",
     "output_type": "stream",
     "text": [
      "160.39.164.174 - - [13/Dec/2018 19:13:35] \"POST / HTTP/1.1\" 200 -\n"
     ]
    },
    {
     "name": "stdout",
     "output_type": "stream",
     "text": [
      "1,2,0,0,0,0,0,0,0,0,0,0,0,0\n"
     ]
    },
    {
     "name": "stderr",
     "output_type": "stream",
     "text": [
      "160.39.164.174 - - [13/Dec/2018 19:13:36] \"POST / HTTP/1.1\" 200 -\n"
     ]
    },
    {
     "name": "stdout",
     "output_type": "stream",
     "text": [
      "1,3,0,0,0,0,0,0,0,0,0,0,0,0\n"
     ]
    },
    {
     "name": "stderr",
     "output_type": "stream",
     "text": [
      "160.39.164.174 - - [13/Dec/2018 20:08:20] \"POST / HTTP/1.1\" 200 -\n"
     ]
    },
    {
     "name": "stdout",
     "output_type": "stream",
     "text": [
      "1,0,0,0,0,0,0,0,0,0,0,0,0,0\n"
     ]
    },
    {
     "name": "stderr",
     "output_type": "stream",
     "text": [
      "160.39.164.174 - - [13/Dec/2018 20:08:25] \"POST / HTTP/1.1\" 200 -\n"
     ]
    },
    {
     "name": "stdout",
     "output_type": "stream",
     "text": [
      "1,0,0,0,0,0,0,1,0,0,0,0,0,0\n"
     ]
    },
    {
     "name": "stderr",
     "output_type": "stream",
     "text": [
      "160.39.164.174 - - [13/Dec/2018 20:08:26] \"POST / HTTP/1.1\" 200 -\n"
     ]
    },
    {
     "name": "stdout",
     "output_type": "stream",
     "text": [
      "1,0,0,0,0,0,0,2,0,0,0,0,0,0\n"
     ]
    },
    {
     "name": "stderr",
     "output_type": "stream",
     "text": [
      "160.39.164.174 - - [13/Dec/2018 20:08:27] \"POST / HTTP/1.1\" 200 -\n"
     ]
    },
    {
     "name": "stdout",
     "output_type": "stream",
     "text": [
      "1,0,0,0,0,0,0,3,0,0,0,0,0,0\n"
     ]
    },
    {
     "name": "stderr",
     "output_type": "stream",
     "text": [
      "160.39.164.174 - - [13/Dec/2018 20:08:28] \"POST / HTTP/1.1\" 200 -\n"
     ]
    },
    {
     "name": "stdout",
     "output_type": "stream",
     "text": [
      "1,0,0,0,0,0,0,4,0,0,0,0,0,0\n"
     ]
    },
    {
     "name": "stderr",
     "output_type": "stream",
     "text": [
      "160.39.164.174 - - [13/Dec/2018 20:08:30] \"POST / HTTP/1.1\" 200 -\n"
     ]
    },
    {
     "name": "stdout",
     "output_type": "stream",
     "text": [
      "1,0,0,0,0,0,0,5,0,0,0,0,0,0\n"
     ]
    },
    {
     "name": "stderr",
     "output_type": "stream",
     "text": [
      "160.39.164.174 - - [13/Dec/2018 20:08:31] \"POST / HTTP/1.1\" 200 -\n"
     ]
    },
    {
     "name": "stdout",
     "output_type": "stream",
     "text": [
      "1,0,0,0,0,0,0,6,0,0,0,0,0,0\n"
     ]
    },
    {
     "name": "stderr",
     "output_type": "stream",
     "text": [
      "160.39.164.174 - - [13/Dec/2018 20:08:32] \"POST / HTTP/1.1\" 200 -\n"
     ]
    },
    {
     "name": "stdout",
     "output_type": "stream",
     "text": [
      "1,0,0,0,0,0,0,7,0,0,0,0,0,0\n"
     ]
    },
    {
     "name": "stderr",
     "output_type": "stream",
     "text": [
      "160.39.164.174 - - [13/Dec/2018 20:11:08] \"POST / HTTP/1.1\" 200 -\n"
     ]
    },
    {
     "name": "stdout",
     "output_type": "stream",
     "text": [
      "1,0,0,0,0,0,0,0,0,0,0,0,0,0\n"
     ]
    },
    {
     "name": "stderr",
     "output_type": "stream",
     "text": [
      "160.39.164.174 - - [13/Dec/2018 20:11:13] \"POST / HTTP/1.1\" 200 -\n"
     ]
    },
    {
     "name": "stdout",
     "output_type": "stream",
     "text": [
      "1,0,0,0,0,0,0,1,0,0,0,0,0,0\n"
     ]
    },
    {
     "name": "stderr",
     "output_type": "stream",
     "text": [
      "160.39.164.174 - - [13/Dec/2018 20:11:14] \"POST / HTTP/1.1\" 200 -\n"
     ]
    },
    {
     "name": "stdout",
     "output_type": "stream",
     "text": [
      "1,0,0,0,0,0,0,2,0,0,0,0,0,0\n"
     ]
    },
    {
     "name": "stderr",
     "output_type": "stream",
     "text": [
      "160.39.164.174 - - [13/Dec/2018 20:11:15] \"POST / HTTP/1.1\" 200 -\n"
     ]
    },
    {
     "name": "stdout",
     "output_type": "stream",
     "text": [
      "1,0,0,0,0,0,0,3,0,0,0,0,0,0\n"
     ]
    },
    {
     "name": "stderr",
     "output_type": "stream",
     "text": [
      "160.39.164.174 - - [13/Dec/2018 20:31:47] \"POST / HTTP/1.1\" 200 -\n"
     ]
    },
    {
     "name": "stdout",
     "output_type": "stream",
     "text": [
      "1,0,0,0,0,0,0,0,0,0,0,0,0,0\n"
     ]
    },
    {
     "name": "stderr",
     "output_type": "stream",
     "text": [
      "160.39.164.174 - - [13/Dec/2018 20:31:51] \"POST / HTTP/1.1\" 200 -\n"
     ]
    },
    {
     "name": "stdout",
     "output_type": "stream",
     "text": [
      "1,0,0,0,0,0,0,1,0,0,0,0,0,0\n"
     ]
    },
    {
     "name": "stderr",
     "output_type": "stream",
     "text": [
      "160.39.164.174 - - [13/Dec/2018 20:31:52] \"POST / HTTP/1.1\" 200 -\n"
     ]
    },
    {
     "name": "stdout",
     "output_type": "stream",
     "text": [
      "1,0,0,0,0,0,0,2,0,0,0,0,0,0\n"
     ]
    },
    {
     "name": "stderr",
     "output_type": "stream",
     "text": [
      "160.39.164.174 - - [13/Dec/2018 20:31:53] \"POST / HTTP/1.1\" 200 -\n"
     ]
    },
    {
     "name": "stdout",
     "output_type": "stream",
     "text": [
      "1,0,0,0,0,0,0,3,0,0,0,0,0,0\n"
     ]
    },
    {
     "name": "stderr",
     "output_type": "stream",
     "text": [
      "160.39.164.174 - - [13/Dec/2018 20:31:54] \"POST / HTTP/1.1\" 200 -\n"
     ]
    },
    {
     "name": "stdout",
     "output_type": "stream",
     "text": [
      "1,0,0,0,0,0,0,4,0,0,0,0,0,0\n"
     ]
    },
    {
     "name": "stderr",
     "output_type": "stream",
     "text": [
      "160.39.164.174 - - [13/Dec/2018 20:31:55] \"POST / HTTP/1.1\" 200 -\n"
     ]
    },
    {
     "name": "stdout",
     "output_type": "stream",
     "text": [
      "1,0,0,0,0,0,0,5,0,0,0,0,0,0\n"
     ]
    },
    {
     "name": "stderr",
     "output_type": "stream",
     "text": [
      "160.39.164.174 - - [13/Dec/2018 20:31:56] \"POST / HTTP/1.1\" 200 -\n"
     ]
    },
    {
     "name": "stdout",
     "output_type": "stream",
     "text": [
      "1,0,0,0,0,0,0,6,0,0,0,0,0,0\n"
     ]
    },
    {
     "name": "stderr",
     "output_type": "stream",
     "text": [
      "160.39.164.174 - - [13/Dec/2018 20:31:56] \"POST / HTTP/1.1\" 200 -\n"
     ]
    },
    {
     "name": "stdout",
     "output_type": "stream",
     "text": [
      "1,0,0,0,0,0,0,7,0,0,0,0,0,0\n"
     ]
    },
    {
     "name": "stderr",
     "output_type": "stream",
     "text": [
      "160.39.164.174 - - [13/Dec/2018 20:31:57] \"POST / HTTP/1.1\" 200 -\n"
     ]
    },
    {
     "name": "stdout",
     "output_type": "stream",
     "text": [
      "1,0,0,0,0,0,0,8,0,0,0,0,0,0\n"
     ]
    },
    {
     "name": "stderr",
     "output_type": "stream",
     "text": [
      "160.39.164.174 - - [13/Dec/2018 20:31:58] \"POST / HTTP/1.1\" 200 -\n"
     ]
    },
    {
     "name": "stdout",
     "output_type": "stream",
     "text": [
      "1,0,0,0,0,0,0,9,0,0,0,0,0,0\n"
     ]
    },
    {
     "name": "stderr",
     "output_type": "stream",
     "text": [
      "160.39.164.174 - - [13/Dec/2018 20:31:58] \"POST / HTTP/1.1\" 200 -\n"
     ]
    },
    {
     "name": "stdout",
     "output_type": "stream",
     "text": [
      "1,0,0,0,0,0,0,10,0,0,0,0,0,0\n"
     ]
    },
    {
     "name": "stderr",
     "output_type": "stream",
     "text": [
      "160.39.164.174 - - [13/Dec/2018 20:31:59] \"POST / HTTP/1.1\" 200 -\n"
     ]
    },
    {
     "name": "stdout",
     "output_type": "stream",
     "text": [
      "1,0,0,0,0,0,0,11,0,0,0,0,0,0\n"
     ]
    },
    {
     "name": "stderr",
     "output_type": "stream",
     "text": [
      "160.39.164.174 - - [13/Dec/2018 20:32:00] \"POST / HTTP/1.1\" 200 -\n"
     ]
    },
    {
     "name": "stdout",
     "output_type": "stream",
     "text": [
      "1,0,0,0,0,0,0,12,0,0,0,0,0,0\n"
     ]
    },
    {
     "name": "stderr",
     "output_type": "stream",
     "text": [
      "160.39.164.174 - - [13/Dec/2018 20:32:00] \"POST / HTTP/1.1\" 200 -\n"
     ]
    },
    {
     "name": "stdout",
     "output_type": "stream",
     "text": [
      "1,0,0,0,0,0,0,13,0,0,0,0,0,0\n"
     ]
    },
    {
     "name": "stderr",
     "output_type": "stream",
     "text": [
      "160.39.164.174 - - [13/Dec/2018 20:32:01] \"POST / HTTP/1.1\" 200 -\n"
     ]
    },
    {
     "name": "stdout",
     "output_type": "stream",
     "text": [
      "1,0,0,0,0,0,0,13,0,0,1,0,0,0\n"
     ]
    }
   ],
   "source": [
    "from http.server import BaseHTTPRequestHandler, HTTPServer\n",
    "import re\n",
    "\n",
    "\n",
    "# HTTPRequestHandler class\n",
    "class testHTTPServer_RequestHandler(BaseHTTPRequestHandler):\n",
    "\n",
    "    # GET\n",
    "    def do_POST(self):\n",
    "        # Send response status code\n",
    "        self.send_response(200)\n",
    "        # Send headers\n",
    "        self.send_header('Content-type', 'text/plain')\n",
    "        self.end_headers()\n",
    "        content_length = int(self.headers['Content-Length'])\n",
    "        body = self.rfile.read(content_length)\n",
    "        body = body.decode('utf-8')\n",
    "        print(body)\n",
    "        if \",\" in body:\n",
    "            feature_array = body.split(\",\")\n",
    "            message = func_predict(float(feature_array[0]),float(feature_array[1]),float(feature_array[2]),float(feature_array[3]),float(feature_array[4]),\n",
    "                              float(feature_array[5]), float(feature_array[6]),float(feature_array[7]),float(feature_array[8]),float(feature_array[9]),\n",
    "                              float(feature_array[10]),float(feature_array[11]),float(feature_array[12]),float(feature_array[13]))\n",
    "             #message = \"1,2,3\"\n",
    "             # Write content as utf-8 data\n",
    "            self.wfile.write(bytes(message, \"utf8\"))\n",
    "        return\n",
    "\n",
    "\n",
    "def run():\n",
    "    print('starting server...')\n",
    "\n",
    "    # Server settings\n",
    "    # Choose port 8080, for port 80, which is normally used for a http server, you need root access\n",
    "    server_address = ('0.0.0.0',8011)\n",
    "    httpd = HTTPServer(server_address, testHTTPServer_RequestHandler)\n",
    "    print('running server...')\n",
    "    httpd.serve_forever()\n",
    "\n",
    "\n",
    "run()"
   ]
  },
  {
   "cell_type": "code",
   "execution_count": null,
   "metadata": {},
   "outputs": [],
   "source": []
  }
 ],
 "metadata": {
  "kernelspec": {
   "display_name": "Python 3",
   "language": "python",
   "name": "python3"
  }
 },
 "nbformat": 4,
 "nbformat_minor": 2
}
